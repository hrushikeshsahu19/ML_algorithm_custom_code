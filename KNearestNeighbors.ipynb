{
  "nbformat": 4,
  "nbformat_minor": 0,
  "metadata": {
    "colab": {
      "provenance": [],
      "authorship_tag": "ABX9TyNwqPd7f1C9cKiz8mQA+URQ",
      "include_colab_link": true
    },
    "kernelspec": {
      "name": "python3",
      "display_name": "Python 3"
    },
    "language_info": {
      "name": "python"
    }
  },
  "cells": [
    {
      "cell_type": "markdown",
      "metadata": {
        "id": "view-in-github",
        "colab_type": "text"
      },
      "source": [
        "<a href=\"https://colab.research.google.com/github/hrushikeshsahu19/ML_algorithm_custom_code/blob/main/KNearestNeighbors.ipynb\" target=\"_parent\"><img src=\"https://colab.research.google.com/assets/colab-badge.svg\" alt=\"Open In Colab\"/></a>"
      ]
    },
    {
      "cell_type": "code",
      "execution_count": 4,
      "metadata": {
        "colab": {
          "base_uri": "https://localhost:8080/"
        },
        "id": "28DfkTtPMhaD",
        "outputId": "6557366f-f02f-4c00-c5ea-e3e568795ec3"
      },
      "outputs": [
        {
          "output_type": "stream",
          "name": "stdout",
          "text": [
            "Accuracy: 0.8\n"
          ]
        }
      ],
      "source": [
        "import numpy as np\n",
        "\n",
        "class KNearestNeighbors:\n",
        "    def __init__(self, k=3):\n",
        "        self.k = k\n",
        "        self.X_train = None\n",
        "        self.y_train = None\n",
        "\n",
        "    def fit(self, X, y):\n",
        "        \"\"\"\n",
        "        Store the training data.\n",
        "\n",
        "        Parameters:\n",
        "        X (numpy.ndarray): Feature matrix of shape (n_samples, n_features).\n",
        "        y (numpy.ndarray): Target vector of shape (n_samples,).\n",
        "        \"\"\"\n",
        "        self.X_train = X\n",
        "        self.y_train = y\n",
        "\n",
        "    def _compute_distance(self, x1, x2):\n",
        "        \"\"\"\n",
        "        Compute the Euclidean distance between two points.\n",
        "\n",
        "        Parameters:\n",
        "        x1 (numpy.ndarray): First data point.\n",
        "        x2 (numpy.ndarray): Second data point.\n",
        "\n",
        "        Returns:\n",
        "        float: Euclidean distance between x1 and x2.\n",
        "        \"\"\"\n",
        "        return np.sqrt(np.sum((x1 - x2) ** 2))\n",
        "\n",
        "    def _predict_single(self, x):\n",
        "        \"\"\"\n",
        "        Predict the class for a single data point.\n",
        "\n",
        "        Parameters:\n",
        "        x (numpy.ndarray): Data point of shape (n_features,).\n",
        "\n",
        "        Returns:\n",
        "        int: Predicted class.\n",
        "        \"\"\"\n",
        "        # Compute distances from x to all training samples\n",
        "        distances = [self._compute_distance(x, x_train) for x_train in self.X_train]\n",
        "\n",
        "        # Get indices of the k nearest neighbors\n",
        "        k_indices = np.argsort(distances)[:self.k]\n",
        "\n",
        "        # Retrieve the labels of the k nearest neighbors\n",
        "        k_neighbor_labels = [self.y_train[i] for i in k_indices]\n",
        "\n",
        "        # Majority vote\n",
        "        return np.argmax(np.bincount(k_neighbor_labels))\n",
        "\n",
        "    def predict(self, X):\n",
        "        \"\"\"\n",
        "        Predict class labels for the input data.\n",
        "\n",
        "        Parameters:\n",
        "        X (numpy.ndarray): Feature matrix of shape (n_samples, n_features).\n",
        "\n",
        "        Returns:\n",
        "        numpy.ndarray: Predicted class labels of shape (n_samples,).\n",
        "        \"\"\"\n",
        "        return np.array([self._predict_single(x) for x in X])\n",
        "\n",
        "# Example usage\n",
        "if __name__ == \"__main__\":\n",
        "    from sklearn.model_selection import train_test_split\n",
        "    from sklearn.metrics import accuracy_score\n",
        "    from sklearn.datasets import make_classification\n",
        "\n",
        "   # Generate a synthetic dataset\n",
        "    X, y = make_classification(\n",
        "        n_samples=200,\n",
        "        n_features=2,\n",
        "        n_informative=2,\n",
        "        n_redundant=0,\n",
        "        n_classes=2,\n",
        "        random_state=42\n",
        "    )\n",
        "\n",
        "\n",
        "    # Split into training and testing sets\n",
        "    X_train, X_test, y_train, y_test = train_test_split(X, y, test_size=0.2, random_state=42)\n",
        "\n",
        "    # Train the k-NN model\n",
        "    knn = KNearestNeighbors(k=5)\n",
        "    knn.fit(X_train, y_train)\n",
        "\n",
        "    # Make predictions\n",
        "    predictions = knn.predict(X_test)\n",
        "\n",
        "    # Evaluate the model\n",
        "    print(\"Accuracy:\", accuracy_score(y_test, predictions))\n"
      ]
    }
  ]
}