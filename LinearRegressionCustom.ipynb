{
  "nbformat": 4,
  "nbformat_minor": 0,
  "metadata": {
    "colab": {
      "provenance": [],
      "authorship_tag": "ABX9TyN2a5bTJcSLWUHrUmIfAYzE",
      "include_colab_link": true
    },
    "kernelspec": {
      "name": "python3",
      "display_name": "Python 3"
    },
    "language_info": {
      "name": "python"
    }
  },
  "cells": [
    {
      "cell_type": "markdown",
      "metadata": {
        "id": "view-in-github",
        "colab_type": "text"
      },
      "source": [
        "<a href=\"https://colab.research.google.com/github/hrushikeshsahu19/ML_algorithm_custom_code/blob/main/LinearRegressionCustom.ipynb\" target=\"_parent\"><img src=\"https://colab.research.google.com/assets/colab-badge.svg\" alt=\"Open In Colab\"/></a>"
      ]
    },
    {
      "cell_type": "code",
      "execution_count": 2,
      "metadata": {
        "colab": {
          "base_uri": "https://localhost:8080/"
        },
        "id": "k-Aqr1c6KgF7",
        "outputId": "64fd07e9-11ed-4c2a-cda5-1d9cf8db96f9"
      },
      "outputs": [
        {
          "output_type": "stream",
          "name": "stdout",
          "text": [
            "Predictions: [-8.32118117e+171 -2.02209339e+172 -3.21206866e+172 -4.40204393e+172\n",
            " -5.59201919e+172]\n",
            "Weights: [-1.19285717e+171 -1.32219474e+171 -1.45153231e+171]\n",
            "Bias: -1.293375699448449e+170\n"
          ]
        }
      ],
      "source": [
        "import numpy as np\n",
        "\n",
        "class LinearRegressionCustom:\n",
        "    def __init__(self, learning_rate=0.01, epochs=1000):\n",
        "        self.learning_rate = learning_rate\n",
        "        self.epochs = epochs\n",
        "        self.weights = None\n",
        "        self.bias = None\n",
        "\n",
        "    def fit(self, X, y):\n",
        "        # Initialize parameters\n",
        "        n_samples, n_features = X.shape\n",
        "        self.weights = np.zeros(n_features)\n",
        "        self.bias = 0\n",
        "\n",
        "        # Gradient descent\n",
        "        for _ in range(self.epochs):\n",
        "            y_predicted = np.dot(X, self.weights) + self.bias\n",
        "\n",
        "            # Compute gradients\n",
        "            dw = (1 / n_samples) * np.dot(X.T, (y_predicted - y))\n",
        "            db = (1 / n_samples) * np.sum(y_predicted - y)\n",
        "\n",
        "            # Update weights and bias\n",
        "            self.weights -= self.learning_rate * dw\n",
        "            self.bias -= self.learning_rate * db\n",
        "\n",
        "    def predict(self, X):\n",
        "        return np.dot(X, self.weights) + self.bias\n",
        "\n",
        "\n",
        "# Example usage\n",
        "if __name__ == \"__main__\":\n",
        "    # Dummy dataset with 3 features\n",
        "    X = np.array([\n",
        "        [1, 2, 3],\n",
        "        [4, 5, 6],\n",
        "        [7, 8, 9],\n",
        "        [10, 11, 12],\n",
        "        [13, 14, 15]\n",
        "    ])\n",
        "    y = np.array([5, 11, 17, 23, 29])  # Target variable\n",
        "\n",
        "    # Create and train the model\n",
        "    model = LinearRegressionCustom(learning_rate=0.01, epochs=1000)\n",
        "    model.fit(X, y)\n",
        "\n",
        "    # Make predictions\n",
        "    predictions = model.predict(X)\n",
        "    print(\"Predictions:\", predictions)\n",
        "    print(\"Weights:\", model.weights)\n",
        "    print(\"Bias:\", model.bias)\n"
      ]
    }
  ]
}