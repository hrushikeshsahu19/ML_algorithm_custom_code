{
  "nbformat": 4,
  "nbformat_minor": 0,
  "metadata": {
    "colab": {
      "provenance": [],
      "authorship_tag": "ABX9TyOAKeG5HO2tdRAfUVknsh6g",
      "include_colab_link": true
    },
    "kernelspec": {
      "name": "python3",
      "display_name": "Python 3"
    },
    "language_info": {
      "name": "python"
    }
  },
  "cells": [
    {
      "cell_type": "markdown",
      "metadata": {
        "id": "view-in-github",
        "colab_type": "text"
      },
      "source": [
        "<a href=\"https://colab.research.google.com/github/hrushikeshsahu19/ML_algorithm_custom_code/blob/main/SVM.ipynb\" target=\"_parent\"><img src=\"https://colab.research.google.com/assets/colab-badge.svg\" alt=\"Open In Colab\"/></a>"
      ]
    },
    {
      "cell_type": "code",
      "execution_count": 1,
      "metadata": {
        "colab": {
          "base_uri": "https://localhost:8080/"
        },
        "id": "EDMM11KYOAU0",
        "outputId": "3e39d765-8ab1-4da8-f3c4-2bdffc928a3d"
      },
      "outputs": [
        {
          "output_type": "stream",
          "name": "stdout",
          "text": [
            "Epoch 100: Weights: [-0.10070161  0.0362871  -0.14171657 -0.01186114 -0.01546816 -0.06744449\n",
            "  0.28690092  0.08097416 -0.06096056 -0.0045847 ], Bias: 408.32999999977363\n",
            "Epoch 200: Weights: [-0.10070161  0.0362871  -0.14171657 -0.01186114 -0.01546816 -0.06744449\n",
            "  0.28690092  0.08097416 -0.06096056 -0.0045847 ], Bias: 820.329999999399\n",
            "Epoch 300: Weights: [-0.10070161  0.0362871  -0.14171657 -0.01186114 -0.01546816 -0.06744449\n",
            "  0.28690092  0.08097416 -0.06096056 -0.0045847 ], Bias: 1232.3299999990243\n",
            "Epoch 400: Weights: [-0.10070161  0.0362871  -0.14171657 -0.01186114 -0.01546816 -0.06744449\n",
            "  0.28690092  0.08097416 -0.06096056 -0.0045847 ], Bias: 1644.3299999986496\n",
            "Epoch 500: Weights: [-0.10070161  0.0362871  -0.14171657 -0.01186114 -0.01546816 -0.06744449\n",
            "  0.28690092  0.08097416 -0.06096056 -0.0045847 ], Bias: 2056.3299999984642\n",
            "Epoch 600: Weights: [-0.10070161  0.0362871  -0.14171657 -0.01186114 -0.01546816 -0.06744449\n",
            "  0.28690092  0.08097416 -0.06096056 -0.0045847 ], Bias: 2468.3300000074573\n",
            "Epoch 700: Weights: [-0.10070161  0.0362871  -0.14171657 -0.01186114 -0.01546816 -0.06744449\n",
            "  0.28690092  0.08097416 -0.06096056 -0.0045847 ], Bias: 2880.3300000164504\n",
            "Epoch 800: Weights: [-0.10070161  0.0362871  -0.14171657 -0.01186114 -0.01546816 -0.06744449\n",
            "  0.28690092  0.08097416 -0.06096056 -0.0045847 ], Bias: 3292.3300000254435\n",
            "Epoch 900: Weights: [-0.10070161  0.0362871  -0.14171657 -0.01186114 -0.01546816 -0.06744449\n",
            "  0.28690092  0.08097416 -0.06096056 -0.0045847 ], Bias: 3704.3300000344366\n",
            "Epoch 1000: Weights: [-0.10070161  0.0362871  -0.14171657 -0.01186114 -0.01546816 -0.06744449\n",
            "  0.28690092  0.08097416 -0.06096056 -0.0045847 ], Bias: 4116.330000043429\n",
            "----------------------------------------------------------------------------------------------------\n",
            "Final Weights: [-0.10070161  0.0362871  -0.14171657 -0.01186114 -0.01546816 -0.06744449\n",
            "  0.28690092  0.08097416 -0.06096056 -0.0045847 ]\n",
            "Final Bias: 4116.330000043429\n",
            "Accuracy: 0.555\n"
          ]
        }
      ],
      "source": [
        "import numpy as np\n",
        "\n",
        "class SVM:\n",
        "    def __init__(self, learning_rate=0.01, epochs=1000, C=1.0):\n",
        "        self.learning_rate = learning_rate\n",
        "        self.epochs = epochs\n",
        "        self.C = C  # Regularization parameter\n",
        "        self.weights = None\n",
        "        self.bias = None\n",
        "\n",
        "    def fit(self, X, y):\n",
        "        \"\"\"\n",
        "        Fit the SVM model using gradient descent.\n",
        "\n",
        "        Parameters:\n",
        "        X (numpy.ndarray): Feature matrix of shape (n_samples, n_features).\n",
        "        y (numpy.ndarray): Target vector of shape (n_samples,).\n",
        "        \"\"\"\n",
        "        n_samples, n_features = X.shape\n",
        "        self.weights = np.zeros(n_features)\n",
        "        self.bias = 0\n",
        "\n",
        "        # Gradient Descent\n",
        "        for epoch in range(self.epochs):\n",
        "            for i in range(n_samples):\n",
        "                condition = y[i] * (np.dot(X[i], self.weights) + self.bias) >= 1\n",
        "                if condition:\n",
        "                    # No update required if the data point is correctly classified\n",
        "                    self.weights -= self.learning_rate * 2 * self.C * self.weights\n",
        "                else:\n",
        "                    # Update rule when the point is misclassified\n",
        "                    self.weights -= self.learning_rate * (2 * self.C * self.weights - np.dot(X[i], y[i]))\n",
        "                    self.bias -= self.learning_rate * y[i]\n",
        "\n",
        "            # Optionally, print weights and bias during training\n",
        "            if (epoch + 1) % 100 == 0:  # Print every 100 epochs\n",
        "                print(f\"Epoch {epoch + 1}: Weights: {self.weights}, Bias: {self.bias}\")\n",
        "\n",
        "    def predict(self, X):\n",
        "        \"\"\"\n",
        "        Predict class labels for the input data.\n",
        "\n",
        "        Parameters:\n",
        "        X (numpy.ndarray): Feature matrix of shape (n_samples, n_features).\n",
        "\n",
        "        Returns:\n",
        "        numpy.ndarray: Predicted class labels of shape (n_samples,).\n",
        "        \"\"\"\n",
        "        # Predicting using the sign of the decision function\n",
        "        return np.sign(np.dot(X, self.weights) + self.bias)\n",
        "\n",
        "# Example usage\n",
        "if __name__ == \"__main__\":\n",
        "    from sklearn.model_selection import train_test_split\n",
        "    from sklearn.metrics import accuracy_score\n",
        "    from sklearn.datasets import make_classification\n",
        "\n",
        "    # Generate a synthetic dataset\n",
        "    X, y = make_classification(n_samples=1000, n_features=10, n_classes=2, random_state=42)\n",
        "\n",
        "    # Convert labels to {-1, 1} for SVM\n",
        "    y = 2 * y - 1  # Change 0s to -1 and 1s remain 1\n",
        "\n",
        "    # Split into training and testing sets\n",
        "    X_train, X_test, y_train, y_test = train_test_split(X, y, test_size=0.2, random_state=42)\n",
        "\n",
        "    # Train the SVM model\n",
        "    model = SVM(learning_rate=0.01, epochs=1000, C=1.0)\n",
        "    model.fit(X_train, y_train)\n",
        "    print(\"-\" * 100)\n",
        "\n",
        "    # Print final weights and bias\n",
        "    print(\"Final Weights:\", model.weights)\n",
        "    print(\"Final Bias:\", model.bias)\n",
        "\n",
        "    # Make predictions\n",
        "    predictions = model.predict(X_test)\n",
        "\n",
        "    # Evaluate the model\n",
        "    print(\"Accuracy:\", accuracy_score(y_test, predictions))\n"
      ]
    }
  ]
}