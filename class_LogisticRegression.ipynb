{
  "nbformat": 4,
  "nbformat_minor": 0,
  "metadata": {
    "colab": {
      "provenance": [],
      "authorship_tag": "ABX9TyMsi9IXdDRCyvjd1677QpNR",
      "include_colab_link": true
    },
    "kernelspec": {
      "name": "python3",
      "display_name": "Python 3"
    },
    "language_info": {
      "name": "python"
    }
  },
  "cells": [
    {
      "cell_type": "markdown",
      "metadata": {
        "id": "view-in-github",
        "colab_type": "text"
      },
      "source": [
        "<a href=\"https://colab.research.google.com/github/hrushikeshsahu19/ML_algorithm_custom_code/blob/main/class_LogisticRegression.ipynb\" target=\"_parent\"><img src=\"https://colab.research.google.com/assets/colab-badge.svg\" alt=\"Open In Colab\"/></a>"
      ]
    },
    {
      "cell_type": "code",
      "execution_count": 3,
      "metadata": {
        "colab": {
          "base_uri": "https://localhost:8080/"
        },
        "id": "1_YHChPZLJMJ",
        "outputId": "d6926c9f-82b5-408b-ac03-aff9d100bc7b"
      },
      "outputs": [
        {
          "output_type": "stream",
          "name": "stdout",
          "text": [
            "Epoch 100: Weights: [-0.14696426  0.01479856 -0.19079217 -0.00119029  0.00721795 -0.01130616\n",
            "  0.36974752 -0.00132192 -0.0365929   0.0065746 ], Bias: -0.009384756536725453\n",
            "Epoch 200: Weights: [-2.20237459e-01  2.93647627e-02 -2.96722540e-01  5.83138899e-04\n",
            "  1.06395635e-02 -2.25170926e-02  5.87097494e-01 -3.67589708e-03\n",
            " -9.01422735e-02  1.00525470e-02], Bias: -0.011646167262586953\n",
            "Epoch 300: Weights: [-0.26558604  0.04194847 -0.36760981  0.00332581  0.01151058 -0.03342431\n",
            "  0.73788511 -0.00582447 -0.14068959  0.01290339], Bias: -0.00997672774539796\n",
            "Epoch 400: Weights: [-0.29703831  0.05276322 -0.41981191  0.00636045  0.01082572 -0.04392998\n",
            "  0.85174206 -0.00761558 -0.18567054  0.01567228], Bias: -0.006022873414780963\n",
            "Epoch 500: Weights: [-0.32036522  0.06215966 -0.46046176  0.0094194   0.00922113 -0.05399712\n",
            "  0.9420908  -0.00906391 -0.22534877  0.01848474], Bias: -0.000756522753166541\n",
            "Epoch 600: Weights: [-0.33844649  0.07042077 -0.49329493  0.01238683  0.0070903  -0.06361481\n",
            "  1.01616749 -0.01021288 -0.26043181  0.0213563 ], Bias: 0.005228720303742516\n",
            "Epoch 700: Weights: [-0.35290833  0.077758   -0.52050951  0.01521221  0.00467845 -0.07278469\n",
            "  1.07832891 -0.01110744 -0.29160841  0.02427202], Bias: 0.011561568882219087\n",
            "Epoch 800: Weights: [-0.36475089  0.08432925 -0.54350668  0.0178758   0.00214013 -0.081515\n",
            "  1.13140524 -0.01178786 -0.3194635   0.02721011], Bias: 0.018005846214968434\n",
            "Epoch 900: Weights: [-3.74628656e-01  9.02544578e-02 -5.63233313e-01  2.03730881e-02\n",
            " -4.26567572e-04 -8.98177455e-02  1.17733995e+00 -1.22887881e-02\n",
            " -3.44477528e-01  3.01493287e-02], Bias: 0.024410033039311413\n",
            "Epoch 1000: Weights: [-0.3829907   0.0956267  -0.58035836  0.02270728 -0.00295952 -0.09770704\n",
            "  1.21752539 -0.0126396  -0.3670432   0.0330712 ], Bias: 0.030677070179740418\n",
            "----------------------------------------------------------------------------------------------------\n",
            "Final Weights: [-0.3829907   0.0956267  -0.58035836  0.02270728 -0.00295952 -0.09770704\n",
            "  1.21752539 -0.0126396  -0.3670432   0.0330712 ]\n",
            "Final Bias: 0.030677070179740418\n",
            "Accuracy: 0.825\n"
          ]
        }
      ],
      "source": [
        "import numpy as np\n",
        "\n",
        "class LogisticRegression:\n",
        "    def __init__(self, learning_rate=0.01, epochs=1000):\n",
        "        self.learning_rate = learning_rate\n",
        "        self.epochs = epochs\n",
        "        self.weights = None\n",
        "        self.bias = None\n",
        "\n",
        "    def sigmoid(self, z):\n",
        "        \"\"\"Sigmoid activation function.\"\"\"\n",
        "        return 1 / (1 + np.exp(-z))\n",
        "\n",
        "    def fit(self, X, y):\n",
        "        \"\"\"\n",
        "        Fit the logistic regression model using gradient descent.\n",
        "\n",
        "        Parameters:\n",
        "        X (numpy.ndarray): Feature matrix of shape (n_samples, n_features).\n",
        "        y (numpy.ndarray): Target vector of shape (n_samples,).\n",
        "        \"\"\"\n",
        "        n_samples, n_features = X.shape\n",
        "        self.weights = np.zeros(n_features)\n",
        "        self.bias = 0\n",
        "\n",
        "        for epoch in range(self.epochs):\n",
        "            # Linear model\n",
        "            linear_model = np.dot(X, self.weights) + self.bias\n",
        "\n",
        "            # Apply sigmoid\n",
        "            predictions = self.sigmoid(linear_model)\n",
        "\n",
        "            # Compute gradients\n",
        "            dw = (1 / n_samples) * np.dot(X.T, (predictions - y))\n",
        "            db = (1 / n_samples) * np.sum(predictions - y)\n",
        "\n",
        "            # Update parameters\n",
        "            self.weights -= self.learning_rate * dw\n",
        "            self.bias -= self.learning_rate * db\n",
        "\n",
        "            # Optionally, print weights and bias during training\n",
        "            if (epoch + 1) % 100 == 0:  # Print every 100 epochs\n",
        "                print(f\"Epoch {epoch + 1}: Weights: {self.weights}, Bias: {self.bias}\")\n",
        "\n",
        "    def predict(self, X):\n",
        "        \"\"\"\n",
        "        Predict class labels for the input data.\n",
        "\n",
        "        Parameters:\n",
        "        X (numpy.ndarray): Feature matrix of shape (n_samples, n_features).\n",
        "\n",
        "        Returns:\n",
        "        numpy.ndarray: Predicted class labels of shape (n_samples,).\n",
        "        \"\"\"\n",
        "        linear_model = np.dot(X, self.weights) + self.bias\n",
        "        probabilities = self.sigmoid(linear_model)\n",
        "        return (probabilities >= 0.5).astype(int)\n",
        "\n",
        "# Example usage\n",
        "if __name__ == \"__main__\":\n",
        "    # Sample dataset\n",
        "    from sklearn.model_selection import train_test_split\n",
        "    from sklearn.metrics import accuracy_score\n",
        "    from sklearn.datasets import make_classification\n",
        "\n",
        "    # Generate a synthetic dataset\n",
        "    X, y = make_classification(n_samples=1000, n_features=10, random_state=42)\n",
        "\n",
        "    # Split into training and testing sets\n",
        "    X_train, X_test, y_train, y_test = train_test_split(X, y, test_size=0.2, random_state=42)\n",
        "\n",
        "    # Train the model\n",
        "    model = LogisticRegression(learning_rate=0.01, epochs=1000)\n",
        "    model.fit(X_train, y_train)\n",
        "    print(\"-\"*100)\n",
        "    # Print final weights and bias\n",
        "    print(\"Final Weights:\", model.weights)\n",
        "    print(\"Final Bias:\", model.bias)\n",
        "\n",
        "    # Make predictions\n",
        "    predictions = model.predict(X_test)\n",
        "\n",
        "    # Evaluate the model\n",
        "    print(\"Accuracy:\", accuracy_score(y_test, predictions))\n"
      ]
    }
  ]
}